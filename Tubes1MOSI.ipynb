{
  "nbformat": 4,
  "nbformat_minor": 0,
  "metadata": {
    "colab": {
      "name": "Tubes1MOSI.ipynb",
      "version": "0.3.2",
      "provenance": [],
      "collapsed_sections": []
    },
    "kernelspec": {
      "name": "python3",
      "display_name": "Python 3"
    }
  },
  "cells": [
    {
      "metadata": {
        "id": "-ipA_3EC5yEW",
        "colab_type": "code",
        "colab": {}
      },
      "cell_type": "code",
      "source": [
        "import numpy as np\n",
        "import matplotlib.pyplot as plt\n",
        "import matplotlib.animation as animation\n",
        "import math"
      ],
      "execution_count": 0,
      "outputs": []
    },
    {
      "metadata": {
        "colab_type": "code",
        "id": "cfpFSiR5O_IR",
        "colab": {}
      },
      "cell_type": "code",
      "source": [
        "def numerical_simulation(vx, h, g, dt):\n",
        "  t = 0\n",
        "  x, y = [], []\n",
        "  s = 0\n",
        "  vy = 0\n",
        "  while h >= 0:\n",
        "    s += vx * dt\n",
        "    vy += g * dt\n",
        "    h += vy * dt\n",
        "    if h < 0:\n",
        "      break\n",
        "    x.append(s)\n",
        "    y.append(h)\n",
        "    t += dt\n",
        "  return x, y, t"
      ],
      "execution_count": 0,
      "outputs": []
    },
    {
      "metadata": {
        "id": "t2HRi1ORwsEx",
        "colab_type": "code",
        "colab": {}
      },
      "cell_type": "code",
      "source": [
        "def analytical_simulation(vx, h0, g, dt, angle):\n",
        "  v0 = vx\n",
        "  t = 0\n",
        "  x, y = [], []\n",
        "  s = 0\n",
        "  h = h0\n",
        "  angle_rad = math.radians(angle)\n",
        "  while h >= 0:\n",
        "    s = v0 * np.cos(angle_rad) * t\n",
        "    h = h0 + (0.5 * g * (t ** 2))\n",
        "    t += dt\n",
        "    if h < 0:\n",
        "      break\n",
        "    x.append(s)\n",
        "    y.append(h)\n",
        "  return x, y"
      ],
      "execution_count": 0,
      "outputs": []
    },
    {
      "metadata": {
        "id": "0nv7OanRx6im",
        "colab_type": "code",
        "colab": {}
      },
      "cell_type": "code",
      "source": [
        "vx0 = 10 #m/s, actual plane boeing 747 920km/h = 255m/s\n",
        "h = 100 #meter, actual plane 12192 m\n",
        "g = -9.8\n",
        "dt = 0.1\n",
        "angle = 0\n",
        "\n",
        "xn, yn, tn = numerical_simulation(vx0, h, g, dt)\n",
        "xa, ya = analytical_simulation(vx0, h, g, dt, angle)\n",
        "\n",
        "time_numeric = tn\n",
        "time_analytic = math.sqrt(abs((2*h)/g))"
      ],
      "execution_count": 0,
      "outputs": []
    },
    {
      "metadata": {
        "id": "fDnylZTXyL-J",
        "colab_type": "code",
        "outputId": "ce95d5f7-7a39-4850-c5c0-a0b31de6e03c",
        "colab": {
          "base_uri": "https://localhost:8080/",
          "height": 50
        }
      },
      "cell_type": "code",
      "source": [
        "print(time_numeric, time_analytic)\n",
        "print(abs(time_numeric - time_analytic))"
      ],
      "execution_count": 0,
      "outputs": [
        {
          "output_type": "stream",
          "text": [
            "4.4 4.5175395145262565\n",
            "0.1175395145262561\n"
          ],
          "name": "stdout"
        }
      ]
    },
    {
      "metadata": {
        "id": "KC3Us2K2xvLV",
        "colab_type": "text"
      },
      "cell_type": "markdown",
      "source": [
        "## Grafik"
      ]
    },
    {
      "metadata": {
        "colab_type": "code",
        "id": "FlY0Hx45O-0E",
        "outputId": "c39a4255-575b-4c58-9321-9622dba5d3ac",
        "colab": {
          "base_uri": "https://localhost:8080/",
          "height": 347
        }
      },
      "cell_type": "code",
      "source": [
        "fig = plt.figure()\n",
        "\n",
        "plt.plot(xn, yn, 'ro', label='numeric')\n",
        "plt.plot(xa, ya, 'bo', label='analytic')\n",
        "plt.legend(loc='best')\n",
        "\n",
        "plt.show()"
      ],
      "execution_count": 0,
      "outputs": [
        {
          "output_type": "display_data",
          "data": {
            "image/png": "[encoded data removed]",
            "text/plain": [
              "<Figure size 576x396 with 1 Axes>"
            ]
          },
          "metadata": {
            "tags": []
          }
        }
      ]
    },
    {
      "metadata": {
        "id": "xkQZli17xnOE",
        "colab_type": "text"
      },
      "cell_type": "markdown",
      "source": [
        "## Video"
      ]
    },
    {
      "metadata": {
        "id": "ysA8vzlhlI9H",
        "colab_type": "code",
        "colab": {}
      },
      "cell_type": "code",
      "source": [
        "fig = plt.figure() \n",
        "ax = plt.axes(xlim=(0, 50), ylim=(0, 100)) \n",
        "line, = ax.plot([], [], lw=2) \n",
        "\n",
        "def init(): \n",
        "  # empty plot/frame \n",
        "  line.set_data([], []) \n",
        "  return line, \n",
        "\n",
        "xdata, ydata = [], [] \n",
        "\n",
        "def animate(i):\n",
        "  x = xn[i]\n",
        "  y = yn[i]\n",
        "\n",
        "  xdata.append(x) \n",
        "  ydata.append(y)  \n",
        "\n",
        "  line.set_data(xdata, ydata) \n",
        "\n",
        "  return line,\n",
        "\n",
        "plt.title('Animasi Gerak Benda Jatuh dari Pesawat')\n",
        "anim = animation.FuncAnimation(fig, animate, init_func=init, frames=len(xn), interval=200, blit=True) \n",
        "anim.save('tubes1mosi.mp4', writer = 'ffmpeg', fps = 30)\n",
        "plt.show()\n"
      ],
      "execution_count": 0,
      "outputs": []
    },
    {
      "metadata": {
        "id": "NzRIfpRfyDSE",
        "colab_type": "code",
        "colab": {}
      },
      "cell_type": "code",
      "source": [
        ""
      ],
      "execution_count": 0,
      "outputs": []
    }
  ]
}